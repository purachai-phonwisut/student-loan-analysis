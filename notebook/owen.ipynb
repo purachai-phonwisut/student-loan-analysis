{
 "cells": [
  {
   "cell_type": "code",
   "execution_count": 28,
   "metadata": {},
   "outputs": [],
   "source": [
    "import pandas as pd\n",
    "import seaborn as sns\n",
    "import ipywidgets as widgets\n",
    "from ipywidgets import interact\n",
    "import requests\n",
    "import matplotlib.pyplot as plt\n",
    "\n",
    "plt.rcParams['font.family'] = 'Cordia New'\n",
    "plt.rc('axes', unicode_minus=False)\n",
    "\n",
    "%matplotlib inline\n",
    "%config InlineBackend.figure_format = 'retina'\n",
    "pd.options.display.float_format = '{:,}'.format\n",
    "\n"
   ]
  },
  {
   "cell_type": "code",
   "execution_count": 29,
   "metadata": {},
   "outputs": [],
   "source": [
    "\n",
    "url_loan = \"https://data.go.th/dataset/ee2d5c24-e132-48fa-b7dd-254b281440d7/resource/55c6fc3b-ce11-4f45-8a63-fa5cb9cd67fd/download/2564-2565-66.xlsx\"\n",
    "url_payer = \"https://data.go.th/dataset/1f36630a-c9d2-4ee6-86ea-4f7f93af4761/resource/58e64a92-7b1f-4453-bc8e-f7397c5a9606/download/untitled.xlsx\"\n",
    "url_status = \"https://data.go.th/dataset/191983d1-3e59-4bf1-8d6d-6f5cb5c54c8f/resource/551865fe-7277-4213-b307-3cd374270441/download/_66.xlsx\""
   ]
  },
  {
   "cell_type": "markdown",
   "metadata": {},
   "source": [
    "# Data preparation"
   ]
  },
  {
   "cell_type": "markdown",
   "metadata": {},
   "source": [
    "## ข้อมูลผลการกู้ กยศ แยกตามพื้นที่ปี 2564 - 2565\n"
   ]
  },
  {
   "cell_type": "code",
   "execution_count": 117,
   "metadata": {},
   "outputs": [
    {
     "data": {
      "text/html": [
       "<div>\n",
       "<style scoped>\n",
       "    .dataframe tbody tr th:only-of-type {\n",
       "        vertical-align: middle;\n",
       "    }\n",
       "\n",
       "    .dataframe tbody tr th {\n",
       "        vertical-align: top;\n",
       "    }\n",
       "\n",
       "    .dataframe thead th {\n",
       "        text-align: right;\n",
       "    }\n",
       "</style>\n",
       "<table border=\"1\" class=\"dataframe\">\n",
       "  <thead>\n",
       "    <tr style=\"text-align: right;\">\n",
       "      <th></th>\n",
       "      <th>จังหวัด</th>\n",
       "      <th>จำนวนผู้กู้ยืมทั้งหมด</th>\n",
       "      <th>จำนวนผู้กู้ยืมค่าครองชีพ</th>\n",
       "      <th>จำนวนเงินค่าเล่าเรียนค่าใช้จ่ายเกี่ยวเนื่อง</th>\n",
       "      <th>จำนวนเงินค่าครองชีพ</th>\n",
       "      <th>ผลรวมการกู้</th>\n",
       "    </tr>\n",
       "  </thead>\n",
       "  <tbody>\n",
       "    <tr>\n",
       "      <th>0</th>\n",
       "      <td>กระบี่</td>\n",
       "      <td>6694</td>\n",
       "      <td>6545</td>\n",
       "      <td>178,467,861.0</td>\n",
       "      <td>210918000</td>\n",
       "      <td>389,385,861.0</td>\n",
       "    </tr>\n",
       "    <tr>\n",
       "      <th>1</th>\n",
       "      <td>กรุงเทพมหานคร</td>\n",
       "      <td>38874</td>\n",
       "      <td>33705</td>\n",
       "      <td>1,600,045,662.0</td>\n",
       "      <td>1108494000</td>\n",
       "      <td>2,708,539,662.0</td>\n",
       "    </tr>\n",
       "    <tr>\n",
       "      <th>2</th>\n",
       "      <td>กาญจนบุรี</td>\n",
       "      <td>7122</td>\n",
       "      <td>6884</td>\n",
       "      <td>171,206,212.0</td>\n",
       "      <td>219930000</td>\n",
       "      <td>391,136,212.0</td>\n",
       "    </tr>\n",
       "    <tr>\n",
       "      <th>3</th>\n",
       "      <td>กาฬสินธุ์</td>\n",
       "      <td>9361</td>\n",
       "      <td>9051</td>\n",
       "      <td>227,678,498.0</td>\n",
       "      <td>288254400</td>\n",
       "      <td>515,932,898.0</td>\n",
       "    </tr>\n",
       "    <tr>\n",
       "      <th>4</th>\n",
       "      <td>กำแพงเพชร</td>\n",
       "      <td>7239</td>\n",
       "      <td>6990</td>\n",
       "      <td>150,393,152.0</td>\n",
       "      <td>219867600</td>\n",
       "      <td>370,260,752.0</td>\n",
       "    </tr>\n",
       "  </tbody>\n",
       "</table>\n",
       "</div>"
      ],
      "text/plain": [
       "         จังหวัด  จำนวนผู้กู้ยืมทั้งหมด  จำนวนผู้กู้ยืมค่าครองชีพ  \\\n",
       "0         กระบี่                   6694                      6545   \n",
       "1  กรุงเทพมหานคร                  38874                     33705   \n",
       "2      กาญจนบุรี                   7122                      6884   \n",
       "3      กาฬสินธุ์                   9361                      9051   \n",
       "4      กำแพงเพชร                   7239                      6990   \n",
       "\n",
       "   จำนวนเงินค่าเล่าเรียนค่าใช้จ่ายเกี่ยวเนื่อง  จำนวนเงินค่าครองชีพ  \\\n",
       "0                                178,467,861.0            210918000   \n",
       "1                              1,600,045,662.0           1108494000   \n",
       "2                                171,206,212.0            219930000   \n",
       "3                                227,678,498.0            288254400   \n",
       "4                                150,393,152.0            219867600   \n",
       "\n",
       "      ผลรวมการกู้  \n",
       "0   389,385,861.0  \n",
       "1 2,708,539,662.0  \n",
       "2   391,136,212.0  \n",
       "3   515,932,898.0  \n",
       "4   370,260,752.0  "
      ]
     },
     "execution_count": 117,
     "metadata": {},
     "output_type": "execute_result"
    }
   ],
   "source": [
    "df_loan = pd.read_excel(url_loan)\n",
    "# df_loan.head()\n",
    "\n",
    "# เพิ่มคอลัมน์ ผลรวมการกู้\n",
    "\n",
    "df_loan['ผลรวมการกู้'] = df_loan['จำนวนเงินค่าเล่าเรียนค่าใช้จ่ายเกี่ยวเนื่อง']+ df_loan['จำนวนเงินค่าครองชีพ']\n",
    "df_loan = df_loan[df_loan['ปีการศึกษา'] != 2564]\n",
    "df_loan = df_loan.drop(['ลักษณะการกู้ยืม','ตำบล','อำเภอ','ปีการศึกษา'],axis=1)\n",
    "summed_df_loan = df_loan.groupby('จังหวัด').sum().reset_index()\n",
    "summed_df_loan.head()"
   ]
  },
  {
   "cell_type": "code",
   "execution_count": 118,
   "metadata": {},
   "outputs": [
    {
     "name": "stdout",
     "output_type": "stream",
     "text": [
      "<class 'pandas.core.frame.DataFrame'>\n",
      "RangeIndex: 77 entries, 0 to 76\n",
      "Data columns (total 6 columns):\n",
      " #   Column                                       Non-Null Count  Dtype  \n",
      "---  ------                                       --------------  -----  \n",
      " 0   จังหวัด                                      77 non-null     object \n",
      " 1   จำนวนผู้กู้ยืมทั้งหมด                        77 non-null     int64  \n",
      " 2   จำนวนผู้กู้ยืมค่าครองชีพ                     77 non-null     int64  \n",
      " 3   จำนวนเงินค่าเล่าเรียนค่าใช้จ่ายเกี่ยวเนื่อง  77 non-null     float64\n",
      " 4   จำนวนเงินค่าครองชีพ                          77 non-null     int64  \n",
      " 5   ผลรวมการกู้                                  77 non-null     float64\n",
      "dtypes: float64(2), int64(3), object(1)\n",
      "memory usage: 3.7+ KB\n"
     ]
    }
   ],
   "source": [
    "summed_df_loan.info()"
   ]
  },
  {
   "cell_type": "markdown",
   "metadata": {},
   "source": [
    "## คำอธิบายเพิ่มเติม\n",
    "ข้อมูลเชิงกลุ่มที่ต้องการการอธิบาย : **ลักษณะการกู้ยืม**\n",
    "* 1 หมายถึง ขาดแคลนทุนทรัพย์\n",
    "* 2 หมายถึง ศึกษาในสาขาวิชาที่เป็นวามต้องการหลัก\n",
    "* 3 หมายถึง ศึกษาในสาขาวิชาขาดแคลน\n",
    "* 4 หมายถึง เรียนดี"
   ]
  },
  {
   "cell_type": "markdown",
   "metadata": {},
   "source": [
    "## ข้อมูลประเภทของผู้กู้ กยศ ของแต่ละพื้นที่ แยกตามสถานะปลอดหนี้และสถานะชำระหนี้ 2564 - 2565 \n"
   ]
  },
  {
   "cell_type": "code",
   "execution_count": 33,
   "metadata": {},
   "outputs": [
    {
     "data": {
      "text/html": [
       "<div>\n",
       "<style scoped>\n",
       "    .dataframe tbody tr th:only-of-type {\n",
       "        vertical-align: middle;\n",
       "    }\n",
       "\n",
       "    .dataframe tbody tr th {\n",
       "        vertical-align: top;\n",
       "    }\n",
       "\n",
       "    .dataframe thead th {\n",
       "        text-align: right;\n",
       "    }\n",
       "</style>\n",
       "<table border=\"1\" class=\"dataframe\">\n",
       "  <thead>\n",
       "    <tr style=\"text-align: right;\">\n",
       "      <th></th>\n",
       "      <th>สถานะผู้กู้</th>\n",
       "      <th>จังหวัด</th>\n",
       "      <th>จำนวนผู้กู้</th>\n",
       "      <th>จำนวนเงินกู้</th>\n",
       "    </tr>\n",
       "  </thead>\n",
       "  <tbody>\n",
       "    <tr>\n",
       "      <th>29240</th>\n",
       "      <td>อยู่ระหว่างชำระหนี้</td>\n",
       "      <td>กระบี่</td>\n",
       "      <td>658</td>\n",
       "      <td>92,033,565.22</td>\n",
       "    </tr>\n",
       "    <tr>\n",
       "      <th>29241</th>\n",
       "      <td>อยู่ระหว่างชำระหนี้</td>\n",
       "      <td>กระบี่</td>\n",
       "      <td>391</td>\n",
       "      <td>54,801,093.67</td>\n",
       "    </tr>\n",
       "    <tr>\n",
       "      <th>29242</th>\n",
       "      <td>อยู่ระหว่างชำระหนี้</td>\n",
       "      <td>กระบี่</td>\n",
       "      <td>355</td>\n",
       "      <td>47,756,918.55</td>\n",
       "    </tr>\n",
       "    <tr>\n",
       "      <th>29243</th>\n",
       "      <td>อยู่ระหว่างชำระหนี้</td>\n",
       "      <td>กระบี่</td>\n",
       "      <td>414</td>\n",
       "      <td>54,755,402.16</td>\n",
       "    </tr>\n",
       "    <tr>\n",
       "      <th>29244</th>\n",
       "      <td>อยู่ระหว่างชำระหนี้</td>\n",
       "      <td>กระบี่</td>\n",
       "      <td>306</td>\n",
       "      <td>46,195,512.96</td>\n",
       "    </tr>\n",
       "  </tbody>\n",
       "</table>\n",
       "</div>"
      ],
      "text/plain": [
       "               สถานะผู้กู้ จังหวัด  จำนวนผู้กู้  จำนวนเงินกู้\n",
       "29240  อยู่ระหว่างชำระหนี้  กระบี่          658 92,033,565.22\n",
       "29241  อยู่ระหว่างชำระหนี้  กระบี่          391 54,801,093.67\n",
       "29242  อยู่ระหว่างชำระหนี้  กระบี่          355 47,756,918.55\n",
       "29243  อยู่ระหว่างชำระหนี้  กระบี่          414 54,755,402.16\n",
       "29244  อยู่ระหว่างชำระหนี้  กระบี่          306 46,195,512.96"
      ]
     },
     "execution_count": 33,
     "metadata": {},
     "output_type": "execute_result"
    }
   ],
   "source": [
    "df_payer = pd.read_excel(url_payer)\n",
    "df_payer = df_payer[df_payer['ปีงบประมาณ'] != 2564]\n",
    "df_payer = df_payer.drop(['ลักษณะการให้กู้ยืม','ตำบล','อำเภอ','ปีงบประมาณ'],axis=1)\n",
    "df_payer.head()"
   ]
  },
  {
   "cell_type": "code",
   "execution_count": 114,
   "metadata": {},
   "outputs": [
    {
     "name": "stdout",
     "output_type": "stream",
     "text": [
      "<class 'pandas.core.frame.DataFrame'>\n",
      "Index: 29674 entries, 29240 to 58913\n",
      "Data columns (total 4 columns):\n",
      " #   Column        Non-Null Count  Dtype  \n",
      "---  ------        --------------  -----  \n",
      " 0   สถานะผู้กู้   29674 non-null  object \n",
      " 1   จังหวัด       29674 non-null  object \n",
      " 2   จำนวนผู้กู้   29674 non-null  int64  \n",
      " 3   จำนวนเงินกู้  29674 non-null  float64\n",
      "dtypes: float64(1), int64(1), object(2)\n",
      "memory usage: 1.1+ MB\n"
     ]
    }
   ],
   "source": [
    "df_payer.info()"
   ]
  },
  {
   "cell_type": "markdown",
   "metadata": {},
   "source": []
  },
  {
   "cell_type": "code",
   "execution_count": 35,
   "metadata": {},
   "outputs": [
    {
     "data": {
      "text/html": [
       "<div>\n",
       "<style scoped>\n",
       "    .dataframe tbody tr th:only-of-type {\n",
       "        vertical-align: middle;\n",
       "    }\n",
       "\n",
       "    .dataframe tbody tr th {\n",
       "        vertical-align: top;\n",
       "    }\n",
       "\n",
       "    .dataframe thead th {\n",
       "        text-align: right;\n",
       "    }\n",
       "</style>\n",
       "<table border=\"1\" class=\"dataframe\">\n",
       "  <thead>\n",
       "    <tr style=\"text-align: right;\">\n",
       "      <th></th>\n",
       "      <th>จังหวัด</th>\n",
       "      <th>สถานะผู้กู้</th>\n",
       "      <th>จำนวนผู้กู้</th>\n",
       "      <th>จำนวนเงินกู้</th>\n",
       "    </tr>\n",
       "  </thead>\n",
       "  <tbody>\n",
       "    <tr>\n",
       "      <th>0</th>\n",
       "      <td>กระบี่</td>\n",
       "      <td>อยู่ระหว่างชำระหนี้</td>\n",
       "      <td>24429</td>\n",
       "      <td>3,271,591,726.79</td>\n",
       "    </tr>\n",
       "    <tr>\n",
       "      <th>1</th>\n",
       "      <td>กระบี่</td>\n",
       "      <td>อยู่ระหว่างปลอดหนี้</td>\n",
       "      <td>2908</td>\n",
       "      <td>419,949,928.81</td>\n",
       "    </tr>\n",
       "    <tr>\n",
       "      <th>2</th>\n",
       "      <td>กรุงเทพมหานคร</td>\n",
       "      <td>อยู่ระหว่างชำระหนี้</td>\n",
       "      <td>224711</td>\n",
       "      <td>36,662,176,009.71</td>\n",
       "    </tr>\n",
       "    <tr>\n",
       "      <th>3</th>\n",
       "      <td>กรุงเทพมหานคร</td>\n",
       "      <td>อยู่ระหว่างปลอดหนี้</td>\n",
       "      <td>21021</td>\n",
       "      <td>3,876,196,403.08</td>\n",
       "    </tr>\n",
       "    <tr>\n",
       "      <th>4</th>\n",
       "      <td>กาญจนบุรี</td>\n",
       "      <td>อยู่ระหว่างชำระหนี้</td>\n",
       "      <td>40206</td>\n",
       "      <td>5,060,805,585.82</td>\n",
       "    </tr>\n",
       "    <tr>\n",
       "      <th>5</th>\n",
       "      <td>กาญจนบุรี</td>\n",
       "      <td>อยู่ระหว่างปลอดหนี้</td>\n",
       "      <td>3790</td>\n",
       "      <td>573,159,533.26</td>\n",
       "    </tr>\n",
       "  </tbody>\n",
       "</table>\n",
       "</div>"
      ],
      "text/plain": [
       "         จังหวัด          สถานะผู้กู้  จำนวนผู้กู้      จำนวนเงินกู้\n",
       "0         กระบี่  อยู่ระหว่างชำระหนี้        24429  3,271,591,726.79\n",
       "1         กระบี่  อยู่ระหว่างปลอดหนี้         2908    419,949,928.81\n",
       "2  กรุงเทพมหานคร  อยู่ระหว่างชำระหนี้       224711 36,662,176,009.71\n",
       "3  กรุงเทพมหานคร  อยู่ระหว่างปลอดหนี้        21021  3,876,196,403.08\n",
       "4      กาญจนบุรี  อยู่ระหว่างชำระหนี้        40206  5,060,805,585.82\n",
       "5      กาญจนบุรี  อยู่ระหว่างปลอดหนี้         3790    573,159,533.26"
      ]
     },
     "execution_count": 35,
     "metadata": {},
     "output_type": "execute_result"
    }
   ],
   "source": [
    "# จัดกลุ่มข้อมูลแยกตามจังหวัดและสถานะผู้กู้\n",
    "\n",
    "grouped_df_payer = df_payer.groupby(['จังหวัด','สถานะผู้กู้']).sum().reset_index()\n",
    "grouped_df_payer.head(6)"
   ]
  },
  {
   "cell_type": "code",
   "execution_count": 36,
   "metadata": {},
   "outputs": [
    {
     "data": {
      "text/html": [
       "<div>\n",
       "<style scoped>\n",
       "    .dataframe tbody tr th:only-of-type {\n",
       "        vertical-align: middle;\n",
       "    }\n",
       "\n",
       "    .dataframe tbody tr th {\n",
       "        vertical-align: top;\n",
       "    }\n",
       "\n",
       "    .dataframe thead th {\n",
       "        text-align: right;\n",
       "    }\n",
       "</style>\n",
       "<table border=\"1\" class=\"dataframe\">\n",
       "  <thead>\n",
       "    <tr style=\"text-align: right;\">\n",
       "      <th></th>\n",
       "      <th>สถานะผู้กู้</th>\n",
       "      <th>จำนวนผู้กู้</th>\n",
       "    </tr>\n",
       "  </thead>\n",
       "  <tbody>\n",
       "    <tr>\n",
       "      <th>0</th>\n",
       "      <td>อยู่ระหว่างชำระหนี้</td>\n",
       "      <td>3546218</td>\n",
       "    </tr>\n",
       "    <tr>\n",
       "      <th>1</th>\n",
       "      <td>อยู่ระหว่างปลอดหนี้</td>\n",
       "      <td>346014</td>\n",
       "    </tr>\n",
       "  </tbody>\n",
       "</table>\n",
       "</div>"
      ],
      "text/plain": [
       "           สถานะผู้กู้  จำนวนผู้กู้\n",
       "0  อยู่ระหว่างชำระหนี้      3546218\n",
       "1  อยู่ระหว่างปลอดหนี้       346014"
      ]
     },
     "execution_count": 36,
     "metadata": {},
     "output_type": "execute_result"
    }
   ],
   "source": [
    "# เตรียมข้อมูลสำหรับสร้างกราฟ\n",
    "\n",
    "summed_df_payer = grouped_df_payer.groupby('สถานะผู้กู้')['จำนวนผู้กู้'].sum().reset_index()\n",
    "summed_df_payer"
   ]
  },
  {
   "cell_type": "markdown",
   "metadata": {},
   "source": [
    "## ข้อมูลสถานะผู้กู้ กยศ แบ่งตามสถานะ"
   ]
  },
  {
   "cell_type": "code",
   "execution_count": 37,
   "metadata": {},
   "outputs": [
    {
     "data": {
      "text/html": [
       "<div>\n",
       "<style scoped>\n",
       "    .dataframe tbody tr th:only-of-type {\n",
       "        vertical-align: middle;\n",
       "    }\n",
       "\n",
       "    .dataframe tbody tr th {\n",
       "        vertical-align: top;\n",
       "    }\n",
       "\n",
       "    .dataframe thead th {\n",
       "        text-align: right;\n",
       "    }\n",
       "</style>\n",
       "<table border=\"1\" class=\"dataframe\">\n",
       "  <thead>\n",
       "    <tr style=\"text-align: right;\">\n",
       "      <th></th>\n",
       "      <th>ลำดับสถานะ</th>\n",
       "      <th>สถานะผู้กู้ยืม</th>\n",
       "      <th>จำนวนผู้กู้ยืม(รายบัญชี)</th>\n",
       "      <th>จำนวนเงินกู้ยืม(บาท)</th>\n",
       "      <th>จำนวนเงินต้นผิดนัดชำระหนี้(บาท)</th>\n",
       "    </tr>\n",
       "  </thead>\n",
       "  <tbody>\n",
       "    <tr>\n",
       "      <th>0</th>\n",
       "      <td>10</td>\n",
       "      <td>1.อยู่ระหว่างศึกษา ปลอดหนี้</td>\n",
       "      <td>1366838</td>\n",
       "      <td>143,298,799,777.06</td>\n",
       "      <td>0.0</td>\n",
       "    </tr>\n",
       "    <tr>\n",
       "      <th>1</th>\n",
       "      <td>20</td>\n",
       "      <td>2.อยู่ระหว่างชำระหนี้</td>\n",
       "      <td>3519163</td>\n",
       "      <td>451,896,020,954.45996</td>\n",
       "      <td>97,360,058,303.79</td>\n",
       "    </tr>\n",
       "    <tr>\n",
       "      <th>2</th>\n",
       "      <td>21</td>\n",
       "      <td>2.1ไม่ผิดนัดชำระหนี้</td>\n",
       "      <td>1277319</td>\n",
       "      <td>188,997,061,113.69</td>\n",
       "      <td>0.0</td>\n",
       "    </tr>\n",
       "    <tr>\n",
       "      <th>3</th>\n",
       "      <td>22</td>\n",
       "      <td>2.2ผิดนัดชำระหนี้</td>\n",
       "      <td>2241844</td>\n",
       "      <td>262,898,959,840.77</td>\n",
       "      <td>97,360,058,303.79</td>\n",
       "    </tr>\n",
       "    <tr>\n",
       "      <th>4</th>\n",
       "      <td>30</td>\n",
       "      <td>3.ชำระหนี้เสร็จสิ้น</td>\n",
       "      <td>1848558</td>\n",
       "      <td>145,714,425,287.19</td>\n",
       "      <td>0.0</td>\n",
       "    </tr>\n",
       "    <tr>\n",
       "      <th>5</th>\n",
       "      <td>40</td>\n",
       "      <td>4.เสียชีวิต ทุพพลภาพ</td>\n",
       "      <td>72270</td>\n",
       "      <td>6,391,652,795.82</td>\n",
       "      <td>0.0</td>\n",
       "    </tr>\n",
       "  </tbody>\n",
       "</table>\n",
       "</div>"
      ],
      "text/plain": [
       "   ลำดับสถานะ               สถานะผู้กู้ยืม  จำนวนผู้กู้ยืม(รายบัญชี)  \\\n",
       "0          10  1.อยู่ระหว่างศึกษา ปลอดหนี้                   1366838   \n",
       "1          20       2.อยู่ระหว่างชำระหนี้                    3519163   \n",
       "2          21         2.1ไม่ผิดนัดชำระหนี้                   1277319   \n",
       "3          22            2.2ผิดนัดชำระหนี้                   2241844   \n",
       "4          30          3.ชำระหนี้เสร็จสิ้น                   1848558   \n",
       "5          40         4.เสียชีวิต ทุพพลภาพ                     72270   \n",
       "\n",
       "   จำนวนเงินกู้ยืม(บาท)  จำนวนเงินต้นผิดนัดชำระหนี้(บาท)  \n",
       "0    143,298,799,777.06                              0.0  \n",
       "1 451,896,020,954.45996                97,360,058,303.79  \n",
       "2    188,997,061,113.69                              0.0  \n",
       "3    262,898,959,840.77                97,360,058,303.79  \n",
       "4    145,714,425,287.19                              0.0  \n",
       "5      6,391,652,795.82                              0.0  "
      ]
     },
     "execution_count": 37,
     "metadata": {},
     "output_type": "execute_result"
    }
   ],
   "source": [
    "df_status = pd.read_excel(url_status)\n",
    "df_status"
   ]
  },
  {
   "cell_type": "markdown",
   "metadata": {},
   "source": [
    "# ภาพรวมของ กยศ ในปัจจุบัน"
   ]
  },
  {
   "cell_type": "code",
   "execution_count": 38,
   "metadata": {},
   "outputs": [
    {
     "data": {
      "text/html": [
       "<div>\n",
       "<style scoped>\n",
       "    .dataframe tbody tr th:only-of-type {\n",
       "        vertical-align: middle;\n",
       "    }\n",
       "\n",
       "    .dataframe tbody tr th {\n",
       "        vertical-align: top;\n",
       "    }\n",
       "\n",
       "    .dataframe thead th {\n",
       "        text-align: right;\n",
       "    }\n",
       "</style>\n",
       "<table border=\"1\" class=\"dataframe\">\n",
       "  <thead>\n",
       "    <tr style=\"text-align: right;\">\n",
       "      <th></th>\n",
       "      <th>จังหวัด</th>\n",
       "      <th>จำนวนผู้กู้ยืมทั้งหมด</th>\n",
       "      <th>จำนวนผู้กู้ยืมค่าครองชีพ</th>\n",
       "      <th>จำนวนเงินค่าเล่าเรียนค่าใช้จ่ายเกี่ยวเนื่อง</th>\n",
       "      <th>จำนวนเงินค่าครองชีพ</th>\n",
       "      <th>ผลรวมการกู้</th>\n",
       "    </tr>\n",
       "  </thead>\n",
       "  <tbody>\n",
       "    <tr>\n",
       "      <th>0</th>\n",
       "      <td>กระบี่</td>\n",
       "      <td>6694</td>\n",
       "      <td>6545</td>\n",
       "      <td>178,467,861.0</td>\n",
       "      <td>210918000</td>\n",
       "      <td>389,385,861.0</td>\n",
       "    </tr>\n",
       "    <tr>\n",
       "      <th>1</th>\n",
       "      <td>กรุงเทพมหานคร</td>\n",
       "      <td>38874</td>\n",
       "      <td>33705</td>\n",
       "      <td>1,600,045,662.0</td>\n",
       "      <td>1108494000</td>\n",
       "      <td>2,708,539,662.0</td>\n",
       "    </tr>\n",
       "    <tr>\n",
       "      <th>2</th>\n",
       "      <td>กาญจนบุรี</td>\n",
       "      <td>7122</td>\n",
       "      <td>6884</td>\n",
       "      <td>171,206,212.0</td>\n",
       "      <td>219930000</td>\n",
       "      <td>391,136,212.0</td>\n",
       "    </tr>\n",
       "    <tr>\n",
       "      <th>3</th>\n",
       "      <td>กาฬสินธุ์</td>\n",
       "      <td>9361</td>\n",
       "      <td>9051</td>\n",
       "      <td>227,678,498.0</td>\n",
       "      <td>288254400</td>\n",
       "      <td>515,932,898.0</td>\n",
       "    </tr>\n",
       "    <tr>\n",
       "      <th>4</th>\n",
       "      <td>กำแพงเพชร</td>\n",
       "      <td>7239</td>\n",
       "      <td>6990</td>\n",
       "      <td>150,393,152.0</td>\n",
       "      <td>219867600</td>\n",
       "      <td>370,260,752.0</td>\n",
       "    </tr>\n",
       "    <tr>\n",
       "      <th>...</th>\n",
       "      <td>...</td>\n",
       "      <td>...</td>\n",
       "      <td>...</td>\n",
       "      <td>...</td>\n",
       "      <td>...</td>\n",
       "      <td>...</td>\n",
       "    </tr>\n",
       "    <tr>\n",
       "      <th>72</th>\n",
       "      <td>เพชรบุรี</td>\n",
       "      <td>3782</td>\n",
       "      <td>3625</td>\n",
       "      <td>105,704,332.0</td>\n",
       "      <td>115837200</td>\n",
       "      <td>221,541,532.0</td>\n",
       "    </tr>\n",
       "    <tr>\n",
       "      <th>73</th>\n",
       "      <td>เพชรบูรณ์</td>\n",
       "      <td>10312</td>\n",
       "      <td>10017</td>\n",
       "      <td>229,935,617.0</td>\n",
       "      <td>321106800</td>\n",
       "      <td>551,042,417.0</td>\n",
       "    </tr>\n",
       "    <tr>\n",
       "      <th>74</th>\n",
       "      <td>เลย</td>\n",
       "      <td>4245</td>\n",
       "      <td>4065</td>\n",
       "      <td>113,018,071.0</td>\n",
       "      <td>129832800</td>\n",
       "      <td>242,850,871.0</td>\n",
       "    </tr>\n",
       "    <tr>\n",
       "      <th>75</th>\n",
       "      <td>แพร่</td>\n",
       "      <td>4737</td>\n",
       "      <td>4598</td>\n",
       "      <td>96,320,148.0</td>\n",
       "      <td>146004000</td>\n",
       "      <td>242,324,148.0</td>\n",
       "    </tr>\n",
       "    <tr>\n",
       "      <th>76</th>\n",
       "      <td>แม่ฮ่องสอน</td>\n",
       "      <td>2392</td>\n",
       "      <td>2336</td>\n",
       "      <td>41,588,424.0</td>\n",
       "      <td>73878000</td>\n",
       "      <td>115,466,424.0</td>\n",
       "    </tr>\n",
       "  </tbody>\n",
       "</table>\n",
       "<p>77 rows × 6 columns</p>\n",
       "</div>"
      ],
      "text/plain": [
       "          จังหวัด  จำนวนผู้กู้ยืมทั้งหมด  จำนวนผู้กู้ยืมค่าครองชีพ  \\\n",
       "0          กระบี่                   6694                      6545   \n",
       "1   กรุงเทพมหานคร                  38874                     33705   \n",
       "2       กาญจนบุรี                   7122                      6884   \n",
       "3       กาฬสินธุ์                   9361                      9051   \n",
       "4       กำแพงเพชร                   7239                      6990   \n",
       "..            ...                    ...                       ...   \n",
       "72       เพชรบุรี                   3782                      3625   \n",
       "73      เพชรบูรณ์                  10312                     10017   \n",
       "74            เลย                   4245                      4065   \n",
       "75           แพร่                   4737                      4598   \n",
       "76     แม่ฮ่องสอน                   2392                      2336   \n",
       "\n",
       "    จำนวนเงินค่าเล่าเรียนค่าใช้จ่ายเกี่ยวเนื่อง  จำนวนเงินค่าครองชีพ  \\\n",
       "0                                 178,467,861.0            210918000   \n",
       "1                               1,600,045,662.0           1108494000   \n",
       "2                                 171,206,212.0            219930000   \n",
       "3                                 227,678,498.0            288254400   \n",
       "4                                 150,393,152.0            219867600   \n",
       "..                                          ...                  ...   \n",
       "72                                105,704,332.0            115837200   \n",
       "73                                229,935,617.0            321106800   \n",
       "74                                113,018,071.0            129832800   \n",
       "75                                 96,320,148.0            146004000   \n",
       "76                                 41,588,424.0             73878000   \n",
       "\n",
       "       ผลรวมการกู้  \n",
       "0    389,385,861.0  \n",
       "1  2,708,539,662.0  \n",
       "2    391,136,212.0  \n",
       "3    515,932,898.0  \n",
       "4    370,260,752.0  \n",
       "..             ...  \n",
       "72   221,541,532.0  \n",
       "73   551,042,417.0  \n",
       "74   242,850,871.0  \n",
       "75   242,324,148.0  \n",
       "76   115,466,424.0  \n",
       "\n",
       "[77 rows x 6 columns]"
      ]
     },
     "execution_count": 38,
     "metadata": {},
     "output_type": "execute_result"
    }
   ],
   "source": [
    "summed_df_loan"
   ]
  },
  {
   "cell_type": "code",
   "execution_count": 113,
   "metadata": {},
   "outputs": [
    {
     "name": "stdout",
     "output_type": "stream",
     "text": [
      "มีจำนวนผู้กู้ยืมทั้งหมดรวม 627,751 คน\n",
      "มีผลรวมการกู้เป็นจำนวน 35,887,450,884.0 บาท\n",
      "จังหวัดที่มีผู้กู้ยืมมากที่สุดคือจังหวัด 38874\n"
     ]
    }
   ],
   "source": [
    "print(f'มีจำนวนผู้กู้ยืมทั้งหมดรวม {summed_df_loan['จำนวนผู้กู้ยืมทั้งหมด'].sum():,} คน\\nมีผลรวมการกู้เป็นจำนวน {summed_df_loan['ผลรวมการกู้'].sum():,.1f} บาท')\n",
    "print(f'จังหวัดที่มีผู้กู้ยืมมากที่สุดคือจังหวัด กรุงเทพมหานคร มีจำนวนผู้กู้ยืมทั้งหมด {summed_df_loan['จำนวนผู้กู้ยืมทั้งหมด'].max()} นับเป็นเงิน {summed_df_loan['ผลรวมการกู้'].sum():,.1f} บาท')"
   ]
  },
  {
   "cell_type": "code",
   "execution_count": 89,
   "metadata": {},
   "outputs": [
    {
     "data": {
      "text/plain": [
       "Text(0.5, 1.0, 'ฮิสโตแกรมแสดงความถี่ของผู้กู้ยืม กยศ. แยกตามจังหวัด')"
      ]
     },
     "execution_count": 89,
     "metadata": {},
     "output_type": "execute_result"
    },
    {
     "data": {
      "image/png": "[encoded data removed]",
      "text/plain": [
       "<Figure size 640x480 with 1 Axes>"
      ]
     },
     "metadata": {
      "image/png": {
       "height": 444,
       "width": 553
      }
     },
     "output_type": "display_data"
    }
   ],
   "source": [
    "fig1 = sns.histplot(data=summed_df_loan, x=\"จำนวนผู้กู้ยืมทั้งหมด\",kde=True,bins=30, color='#992010')\n",
    "fig1.set_title('ฮิสโตแกรมแสดงความถี่ของผู้กู้ยืม กยศ. แยกตามจังหวัด')"
   ]
  },
  {
   "cell_type": "markdown",
   "metadata": {},
   "source": [
    "จากกราฟจะแสดงให้เห็นว่าการกระจายตัวข้อมูลในส่วนของจำนวนผู้กู้ยืม กยศ. มีลักษณะเบ้ขวา และมี Outlier อยู่บ้าง ซึ่งในข้อมูลนั้น จังหวัดที่เป็น Outlier คือจังหวัดกรุงเทพมหานคร"
   ]
  },
  {
   "cell_type": "code",
   "execution_count": 40,
   "metadata": {},
   "outputs": [
    {
     "data": {
      "text/html": [
       "<div>\n",
       "<style scoped>\n",
       "    .dataframe tbody tr th:only-of-type {\n",
       "        vertical-align: middle;\n",
       "    }\n",
       "\n",
       "    .dataframe tbody tr th {\n",
       "        vertical-align: top;\n",
       "    }\n",
       "\n",
       "    .dataframe thead th {\n",
       "        text-align: right;\n",
       "    }\n",
       "</style>\n",
       "<table border=\"1\" class=\"dataframe\">\n",
       "  <thead>\n",
       "    <tr style=\"text-align: right;\">\n",
       "      <th></th>\n",
       "      <th>จังหวัด</th>\n",
       "      <th>จำนวนผู้กู้ยืมทั้งหมด</th>\n",
       "      <th>ผลรวมการกู้</th>\n",
       "    </tr>\n",
       "  </thead>\n",
       "  <tbody>\n",
       "    <tr>\n",
       "      <th>1</th>\n",
       "      <td>กรุงเทพมหานคร</td>\n",
       "      <td>38874</td>\n",
       "      <td>2,708,539,662.0</td>\n",
       "    </tr>\n",
       "    <tr>\n",
       "      <th>19</th>\n",
       "      <td>นครศรีธรรมราช</td>\n",
       "      <td>23932</td>\n",
       "      <td>1,333,102,925.0</td>\n",
       "    </tr>\n",
       "    <tr>\n",
       "      <th>18</th>\n",
       "      <td>นครราชสีมา</td>\n",
       "      <td>20827</td>\n",
       "      <td>1,186,682,777.0</td>\n",
       "    </tr>\n",
       "    <tr>\n",
       "      <th>50</th>\n",
       "      <td>สงขลา</td>\n",
       "      <td>20639</td>\n",
       "      <td>1,141,742,826.0</td>\n",
       "    </tr>\n",
       "    <tr>\n",
       "      <th>68</th>\n",
       "      <td>อุบลราชธานี</td>\n",
       "      <td>18295</td>\n",
       "      <td>988,397,273.0</td>\n",
       "    </tr>\n",
       "    <tr>\n",
       "      <th>...</th>\n",
       "      <td>...</td>\n",
       "      <td>...</td>\n",
       "      <td>...</td>\n",
       "    </tr>\n",
       "    <tr>\n",
       "      <th>15</th>\n",
       "      <td>นครนายก</td>\n",
       "      <td>2159</td>\n",
       "      <td>127,500,917.0</td>\n",
       "    </tr>\n",
       "    <tr>\n",
       "      <th>13</th>\n",
       "      <td>ตราด</td>\n",
       "      <td>1902</td>\n",
       "      <td>109,601,268.0</td>\n",
       "    </tr>\n",
       "    <tr>\n",
       "      <th>41</th>\n",
       "      <td>ระนอง</td>\n",
       "      <td>1822</td>\n",
       "      <td>100,106,799.0</td>\n",
       "    </tr>\n",
       "    <tr>\n",
       "      <th>53</th>\n",
       "      <td>สมุทรสงคราม</td>\n",
       "      <td>1679</td>\n",
       "      <td>96,740,331.0</td>\n",
       "    </tr>\n",
       "    <tr>\n",
       "      <th>57</th>\n",
       "      <td>สิงห์บุรี</td>\n",
       "      <td>1667</td>\n",
       "      <td>89,226,890.0</td>\n",
       "    </tr>\n",
       "  </tbody>\n",
       "</table>\n",
       "<p>77 rows × 3 columns</p>\n",
       "</div>"
      ],
      "text/plain": [
       "          จังหวัด  จำนวนผู้กู้ยืมทั้งหมด     ผลรวมการกู้\n",
       "1   กรุงเทพมหานคร                  38874 2,708,539,662.0\n",
       "19  นครศรีธรรมราช                  23932 1,333,102,925.0\n",
       "18     นครราชสีมา                  20827 1,186,682,777.0\n",
       "50          สงขลา                  20639 1,141,742,826.0\n",
       "68    อุบลราชธานี                  18295   988,397,273.0\n",
       "..            ...                    ...             ...\n",
       "15        นครนายก                   2159   127,500,917.0\n",
       "13           ตราด                   1902   109,601,268.0\n",
       "41          ระนอง                   1822   100,106,799.0\n",
       "53    สมุทรสงคราม                   1679    96,740,331.0\n",
       "57      สิงห์บุรี                   1667    89,226,890.0\n",
       "\n",
       "[77 rows x 3 columns]"
      ]
     },
     "execution_count": 40,
     "metadata": {},
     "output_type": "execute_result"
    }
   ],
   "source": [
    "fin_df_loan = summed_df_loan.iloc[:,[0,1,5]].sort_values('จำนวนผู้กู้ยืมทั้งหมด',ascending = False)\n",
    "fin_df_loan"
   ]
  },
  {
   "cell_type": "markdown",
   "metadata": {},
   "source": [
    "จากตารางจะเห็นได้เลยว่า"
   ]
  },
  {
   "cell_type": "code",
   "execution_count": 115,
   "metadata": {},
   "outputs": [
    {
     "data": {
      "image/png": "[encoded data removed]",
      "text/plain": [
       "<Figure size 640x480 with 1 Axes>"
      ]
     },
     "metadata": {
      "image/png": {
       "height": 448,
       "width": 555
      }
     },
     "output_type": "display_data"
    }
   ],
   "source": [
    "sns.barplot(data = summed_df_payer,x='สถานะผู้กู้',y='จำนวนผู้กู้', color=\"#992020\")\n",
    "plt.title('จำนวนผู้กู้แยกประเภทเป็นผู้กู้ที่อยู่ระหว่างชำระหนี้และอยู่ระหว่างปลอดหนี้')\n",
    "plt.xlabel('สถานะผู้กู้')\n",
    "plt.ylabel('จำนวนผู้กู้ (ล้านคน)')\n",
    "\n",
    "plt.show()"
   ]
  },
  {
   "cell_type": "code",
   "execution_count": 87,
   "metadata": {},
   "outputs": [
    {
     "data": {
      "application/vnd.jupyter.widget-view+json": {
       "model_id": "28eb05b71311427aadeb69f016470db3",
       "version_major": 2,
       "version_minor": 0
      },
      "text/plain": [
       "interactive(children=(Dropdown(description='Province:', options=('กระบี่', 'กรุงเทพมหานคร', 'กาญจนบุรี', 'กาฬส…"
      ]
     },
     "execution_count": 87,
     "metadata": {},
     "output_type": "execute_result"
    }
   ],
   "source": [
    "\n",
    "def update_plot(selected_province):\n",
    "    filtered_df = grouped_df_payer[grouped_df_payer['จังหวัด'] == selected_province]\n",
    "    \n",
    "    borrowers_df = filtered_df.groupby('สถานะผู้กู้')['จำนวนผู้กู้'].sum().reset_index()\n",
    "    \n",
    "    amount_owned_df = filtered_df.groupby('สถานะผู้กู้')['จำนวนเงินกู้'].sum().reset_index()\n",
    "    \n",
    "    \n",
    "    plt.figure(figsize=(8, 4))\n",
    "    \n",
    "    plt.subplot(1, 2, 1) # (rows, columns, panel number)\n",
    "    sns.barplot(x='สถานะผู้กู้', y='จำนวนผู้กู้', data=borrowers_df)\n",
    "    plt.title(f'จำนวน {selected_province}')\n",
    "    plt.xlabel('Borrower Status')\n",
    "    plt.ylabel('Total Number of Borrowers')\n",
    "    \n",
    "    plt.subplot(1, 2, 2)\n",
    "    sns.barplot(x='สถานะผู้กู้', y='จำนวนเงินกู้', data=amount_owned_df, color='#992020')\n",
    "    plt.title(f'Total Amount Owned in {selected_province}')\n",
    "    plt.xlabel('Borrower Status')\n",
    "    plt.ylabel('Total Amount Owned')\n",
    "    \n",
    "    plt.tight_layout()\n",
    "    plt.show()\n",
    "province_dropdown = widgets.Dropdown(\n",
    "    options=grouped_df_payer['จังหวัด'].unique(),\n",
    "    description='Province:',\n",
    "    disabled=False,\n",
    ")\n",
    "\n",
    "widgets.interactive(update_plot, selected_province=province_dropdown)"
   ]
  },
  {
   "cell_type": "code",
   "execution_count": 70,
   "metadata": {},
   "outputs": [
    {
     "name": "stderr",
     "output_type": "stream",
     "text": [
      "C:\\Users\\Purachai\\AppData\\Local\\Temp\\ipykernel_14852\\3971100967.py:8: SettingWithCopyWarning: \n",
      "A value is trying to be set on a copy of a slice from a DataFrame.\n",
      "Try using .loc[row_indexer,col_indexer] = value instead\n",
      "\n",
      "See the caveats in the documentation: https://pandas.pydata.org/pandas-docs/stable/user_guide/indexing.html#returning-a-view-versus-a-copy\n",
      "  df_default_rate['Percentage'] = (df_default_rate['จำนวนผู้กู้ยืม(รายบัญชี)'] / total) * 100\n"
     ]
    },
    {
     "data": {
      "text/html": [
       "<div>\n",
       "<style scoped>\n",
       "    .dataframe tbody tr th:only-of-type {\n",
       "        vertical-align: middle;\n",
       "    }\n",
       "\n",
       "    .dataframe tbody tr th {\n",
       "        vertical-align: top;\n",
       "    }\n",
       "\n",
       "    .dataframe thead th {\n",
       "        text-align: right;\n",
       "    }\n",
       "</style>\n",
       "<table border=\"1\" class=\"dataframe\">\n",
       "  <thead>\n",
       "    <tr style=\"text-align: right;\">\n",
       "      <th></th>\n",
       "      <th>สถานะผู้กู้ยืม</th>\n",
       "      <th>จำนวนผู้กู้ยืม(รายบัญชี)</th>\n",
       "      <th>Percentage</th>\n",
       "    </tr>\n",
       "  </thead>\n",
       "  <tbody>\n",
       "    <tr>\n",
       "      <th>2</th>\n",
       "      <td>2.1ไม่ผิดนัดชำระหนี้</td>\n",
       "      <td>1277319</td>\n",
       "      <td>36.29610222658059</td>\n",
       "    </tr>\n",
       "    <tr>\n",
       "      <th>3</th>\n",
       "      <td>2.2ผิดนัดชำระหนี้</td>\n",
       "      <td>2241844</td>\n",
       "      <td>63.70389777341941</td>\n",
       "    </tr>\n",
       "  </tbody>\n",
       "</table>\n",
       "</div>"
      ],
      "text/plain": [
       "         สถานะผู้กู้ยืม  จำนวนผู้กู้ยืม(รายบัญชี)        Percentage\n",
       "2  2.1ไม่ผิดนัดชำระหนี้                   1277319 36.29610222658059\n",
       "3     2.2ผิดนัดชำระหนี้                   2241844 63.70389777341941"
      ]
     },
     "execution_count": 70,
     "metadata": {},
     "output_type": "execute_result"
    }
   ],
   "source": [
    "df_status = df_status[['สถานะผู้กู้ยืม','จำนวนผู้กู้ยืม(รายบัญชี)']]\n",
    "df_default_rate = df_status.iloc[[2,3], :]\n",
    "\n",
    "# Calculate the total\n",
    "total = df_default_rate['จำนวนผู้กู้ยืม(รายบัญชี)'].sum()\n",
    "\n",
    "# Calculate the percentage for each row\n",
    "df_default_rate['Percentage'] = (df_default_rate['จำนวนผู้กู้ยืม(รายบัญชี)'] / total) * 100\n",
    "df_default_rate"
   ]
  },
  {
   "cell_type": "code",
   "execution_count": 88,
   "metadata": {},
   "outputs": [
    {
     "data": {
      "image/png": "[encoded data removed]",
      "text/plain": [
       "<Figure size 500x600 with 1 Axes>"
      ]
     },
     "metadata": {
      "image/png": {
       "height": 550,
       "width": 446
      }
     },
     "output_type": "display_data"
    }
   ],
   "source": [
    "plt.figure(figsize=(5, 6))\n",
    "fig3 = sns.barplot(data = df_default_rate.iloc[: , [0,2]], x = 'สถานะผู้กู้ยืม', y = 'Percentage', color=\"#992020\" )\n",
    "ax = plt.gca()\n",
    "fig3.set_title ('สัดส่วนหนี้เสียของ กยศ.', fontsize = 20)\n",
    "fig3.set_xlabel('สถานะผู้กู้ยืม', fontsize = 15)\n",
    "fig3.set_ylabel('เปอร์เซนต์', fontsize = 15)\n",
    "\n",
    "for p in ax.patches:\n",
    "    height = p.get_height()\n",
    "    ax.text(p.get_x() + p.get_width() / 2., height + 0.5, f'{height:.2f}%', ha=\"center\",fontsize = 12)\n",
    "\n",
    "plt.show()"
   ]
  },
  {
   "cell_type": "markdown",
   "metadata": {},
   "source": [
    "<img src=\"https://www.studentloan.or.th/sites/default/files/images/news/%E0%B8%82%E0%B9%88%E0%B8%B2%E0%B8%A7.jpg\" alt=\"news\" width=\"800\"/>\n"
   ]
  }
 ],
 "metadata": {
  "kernelspec": {
   "display_name": "Python 3",
   "language": "python",
   "name": "python3"
  },
  "language_info": {
   "codemirror_mode": {
    "name": "ipython",
    "version": 3
   },
   "file_extension": ".py",
   "mimetype": "text/x-python",
   "name": "python",
   "nbconvert_exporter": "python",
   "pygments_lexer": "ipython3",
   "version": "3.12.1"
  }
 },
 "nbformat": 4,
 "nbformat_minor": 2
}
