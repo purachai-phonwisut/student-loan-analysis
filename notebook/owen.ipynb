{
 "cells": [
  {
   "cell_type": "code",
   "execution_count": 247,
   "metadata": {},
   "outputs": [],
   "source": [
    "import pandas as pd\n",
    "import seaborn as sns\n",
    "import ipywidgets as widgets\n",
    "from ipywidgets import interact\n",
    "import requests\n",
    "import matplotlib.pyplot as plt\n",
    "\n",
    "plt.rcParams['font.family'] = 'Cordia New'\n",
    "plt.rc('axes', unicode_minus=False)\n",
    "\n",
    "%matplotlib inline\n",
    "%config InlineBackend.figure_format = 'retina'\n",
    "\n",
    "\n"
   ]
  },
  {
   "cell_type": "code",
   "execution_count": null,
   "metadata": {},
   "outputs": [],
   "source": []
  },
  {
   "cell_type": "code",
   "execution_count": 248,
   "metadata": {},
   "outputs": [],
   "source": [
    "\n",
    "url_loan = \"https://data.go.th/dataset/ee2d5c24-e132-48fa-b7dd-254b281440d7/resource/55c6fc3b-ce11-4f45-8a63-fa5cb9cd67fd/download/2564-2565-66.xlsx\"\n",
    "url_payer = \"https://data.go.th/dataset/1f36630a-c9d2-4ee6-86ea-4f7f93af4761/resource/58e64a92-7b1f-4453-bc8e-f7397c5a9606/download/untitled.xlsx\"\n",
    "url_status = \"https://data.go.th/dataset/191983d1-3e59-4bf1-8d6d-6f5cb5c54c8f/resource/551865fe-7277-4213-b307-3cd374270441/download/_66.xlsx\""
   ]
  },
  {
   "cell_type": "markdown",
   "metadata": {},
   "source": [
    "# Data preparation"
   ]
  },
  {
   "cell_type": "markdown",
   "metadata": {},
   "source": [
    "## ข้อมูลผลการกู้ กยศ แยกตามพื้นที่ปี 2564 - 2565\n"
   ]
  },
  {
   "cell_type": "code",
   "execution_count": 249,
   "metadata": {},
   "outputs": [
    {
     "data": {
      "text/html": [
       "<div>\n",
       "<style scoped>\n",
       "    .dataframe tbody tr th:only-of-type {\n",
       "        vertical-align: middle;\n",
       "    }\n",
       "\n",
       "    .dataframe tbody tr th {\n",
       "        vertical-align: top;\n",
       "    }\n",
       "\n",
       "    .dataframe thead th {\n",
       "        text-align: right;\n",
       "    }\n",
       "</style>\n",
       "<table border=\"1\" class=\"dataframe\">\n",
       "  <thead>\n",
       "    <tr style=\"text-align: right;\">\n",
       "      <th></th>\n",
       "      <th>ปีการศึกษา</th>\n",
       "      <th>ลักษณะการกู้ยืม</th>\n",
       "      <th>ตำบล</th>\n",
       "      <th>อำเภอ</th>\n",
       "      <th>จังหวัด</th>\n",
       "      <th>จำนวนผู้กู้ยืมทั้งหมด</th>\n",
       "      <th>จำนวนผู้กู้ยืมค่าครองชีพ</th>\n",
       "      <th>จำนวนเงินค่าเล่าเรียนค่าใช้จ่ายเกี่ยวเนื่อง</th>\n",
       "      <th>จำนวนเงินค่าครองชีพ</th>\n",
       "    </tr>\n",
       "  </thead>\n",
       "  <tbody>\n",
       "    <tr>\n",
       "      <th>0</th>\n",
       "      <td>2564</td>\n",
       "      <td>1</td>\n",
       "      <td>เกาะกลาง</td>\n",
       "      <td>เกาะลันตา</td>\n",
       "      <td>กระบี่</td>\n",
       "      <td>166</td>\n",
       "      <td>166</td>\n",
       "      <td>3098573.0</td>\n",
       "      <td>5142000</td>\n",
       "    </tr>\n",
       "    <tr>\n",
       "      <th>1</th>\n",
       "      <td>2564</td>\n",
       "      <td>1</td>\n",
       "      <td>เกาะลันตาน้อย</td>\n",
       "      <td>เกาะลันตา</td>\n",
       "      <td>กระบี่</td>\n",
       "      <td>62</td>\n",
       "      <td>61</td>\n",
       "      <td>1140795.0</td>\n",
       "      <td>1922400</td>\n",
       "    </tr>\n",
       "    <tr>\n",
       "      <th>2</th>\n",
       "      <td>2564</td>\n",
       "      <td>1</td>\n",
       "      <td>เกาะลันตาใหญ่</td>\n",
       "      <td>เกาะลันตา</td>\n",
       "      <td>กระบี่</td>\n",
       "      <td>85</td>\n",
       "      <td>85</td>\n",
       "      <td>1609466.0</td>\n",
       "      <td>2618400</td>\n",
       "    </tr>\n",
       "    <tr>\n",
       "      <th>3</th>\n",
       "      <td>2564</td>\n",
       "      <td>1</td>\n",
       "      <td>คลองยาง</td>\n",
       "      <td>เกาะลันตา</td>\n",
       "      <td>กระบี่</td>\n",
       "      <td>111</td>\n",
       "      <td>111</td>\n",
       "      <td>2050103.0</td>\n",
       "      <td>3532800</td>\n",
       "    </tr>\n",
       "    <tr>\n",
       "      <th>4</th>\n",
       "      <td>2564</td>\n",
       "      <td>1</td>\n",
       "      <td>ศาลาด่าน</td>\n",
       "      <td>เกาะลันตา</td>\n",
       "      <td>กระบี่</td>\n",
       "      <td>58</td>\n",
       "      <td>57</td>\n",
       "      <td>1491128.0</td>\n",
       "      <td>1903200</td>\n",
       "    </tr>\n",
       "  </tbody>\n",
       "</table>\n",
       "</div>"
      ],
      "text/plain": [
       "   ปีการศึกษา  ลักษณะการกู้ยืม           ตำบล      อำเภอ จังหวัด  \\\n",
       "0        2564                1       เกาะกลาง  เกาะลันตา  กระบี่   \n",
       "1        2564                1  เกาะลันตาน้อย  เกาะลันตา  กระบี่   \n",
       "2        2564                1  เกาะลันตาใหญ่  เกาะลันตา  กระบี่   \n",
       "3        2564                1        คลองยาง  เกาะลันตา  กระบี่   \n",
       "4        2564                1       ศาลาด่าน  เกาะลันตา  กระบี่   \n",
       "\n",
       "   จำนวนผู้กู้ยืมทั้งหมด  จำนวนผู้กู้ยืมค่าครองชีพ  \\\n",
       "0                    166                       166   \n",
       "1                     62                        61   \n",
       "2                     85                        85   \n",
       "3                    111                       111   \n",
       "4                     58                        57   \n",
       "\n",
       "   จำนวนเงินค่าเล่าเรียนค่าใช้จ่ายเกี่ยวเนื่อง  จำนวนเงินค่าครองชีพ  \n",
       "0                                    3098573.0              5142000  \n",
       "1                                    1140795.0              1922400  \n",
       "2                                    1609466.0              2618400  \n",
       "3                                    2050103.0              3532800  \n",
       "4                                    1491128.0              1903200  "
      ]
     },
     "execution_count": 249,
     "metadata": {},
     "output_type": "execute_result"
    }
   ],
   "source": [
    "df_loan = pd.read_excel(url_loan)\n",
    "df_loan.head()"
   ]
  },
  {
   "cell_type": "markdown",
   "metadata": {},
   "source": [
    "ประกอบไปด้วยจำนวนแถว 33,943 แถว และจำนวนคอลัมน์ 9 คอลัมน์\n",
    "### Data type ของแต่ละคอลัมน์มีดังนี้ : \n",
    "1. ปีการศึกษา : int64\n",
    "2. ลักษณะการกู้ยืม : int64\n",
    "3. ตำบล : object\n",
    "4. อำเภอ : object\n",
    "5. จังหวัด : object\n",
    "6. จำนวนผู้กู้ยืมทั้งหมด : int64 \n",
    "7. จำนวนเงินค่าเล่าเรียนค่าใช้จ่ายเกี่ยวเนื่อง : int64 \n",
    "8. จำนวนเงินค่าครองชีพ : int64 \n",
    "\n",
    "* ไม่มี null value\n",
    "\n",
    "ข้อมูลเชิงกลุ่มที่ต้องการการอธิบาย : ลักษณะการกู้ยืม\n",
    "* 1 หมายถึง ขาดแคลนทุนทรัพย์\n",
    "* 2 หมายถึง ศึกษาในสาขาวิชาที่เป็นวามต้องการหลัก\n",
    "* 3 หมายถึง ศึกษาในสาขาวิชาขาดแคลน\n",
    "* 4 หมายถึง เรียนดี"
   ]
  },
  {
   "cell_type": "code",
   "execution_count": 250,
   "metadata": {},
   "outputs": [
    {
     "data": {
      "text/html": [
       "<div>\n",
       "<style scoped>\n",
       "    .dataframe tbody tr th:only-of-type {\n",
       "        vertical-align: middle;\n",
       "    }\n",
       "\n",
       "    .dataframe tbody tr th {\n",
       "        vertical-align: top;\n",
       "    }\n",
       "\n",
       "    .dataframe thead th {\n",
       "        text-align: right;\n",
       "    }\n",
       "</style>\n",
       "<table border=\"1\" class=\"dataframe\">\n",
       "  <thead>\n",
       "    <tr style=\"text-align: right;\">\n",
       "      <th></th>\n",
       "      <th>จังหวัด</th>\n",
       "      <th>จำนวนผู้กู้ยืมทั้งหมด</th>\n",
       "      <th>จำนวนผู้กู้ยืมค่าครองชีพ</th>\n",
       "      <th>จำนวนเงินค่าเล่าเรียนค่าใช้จ่ายเกี่ยวเนื่อง</th>\n",
       "      <th>จำนวนเงินค่าครองชีพ</th>\n",
       "      <th>ผลรวมการกู้</th>\n",
       "    </tr>\n",
       "  </thead>\n",
       "  <tbody>\n",
       "    <tr>\n",
       "      <th>0</th>\n",
       "      <td>กระบี่</td>\n",
       "      <td>6694</td>\n",
       "      <td>6545</td>\n",
       "      <td>1.784679e+08</td>\n",
       "      <td>210918000</td>\n",
       "      <td>3.893859e+08</td>\n",
       "    </tr>\n",
       "    <tr>\n",
       "      <th>1</th>\n",
       "      <td>กรุงเทพมหานคร</td>\n",
       "      <td>38874</td>\n",
       "      <td>33705</td>\n",
       "      <td>1.600046e+09</td>\n",
       "      <td>1108494000</td>\n",
       "      <td>2.708540e+09</td>\n",
       "    </tr>\n",
       "    <tr>\n",
       "      <th>2</th>\n",
       "      <td>กาญจนบุรี</td>\n",
       "      <td>7122</td>\n",
       "      <td>6884</td>\n",
       "      <td>1.712062e+08</td>\n",
       "      <td>219930000</td>\n",
       "      <td>3.911362e+08</td>\n",
       "    </tr>\n",
       "    <tr>\n",
       "      <th>3</th>\n",
       "      <td>กาฬสินธุ์</td>\n",
       "      <td>9361</td>\n",
       "      <td>9051</td>\n",
       "      <td>2.276785e+08</td>\n",
       "      <td>288254400</td>\n",
       "      <td>5.159329e+08</td>\n",
       "    </tr>\n",
       "    <tr>\n",
       "      <th>4</th>\n",
       "      <td>กำแพงเพชร</td>\n",
       "      <td>7239</td>\n",
       "      <td>6990</td>\n",
       "      <td>1.503932e+08</td>\n",
       "      <td>219867600</td>\n",
       "      <td>3.702608e+08</td>\n",
       "    </tr>\n",
       "  </tbody>\n",
       "</table>\n",
       "</div>"
      ],
      "text/plain": [
       "         จังหวัด  จำนวนผู้กู้ยืมทั้งหมด  จำนวนผู้กู้ยืมค่าครองชีพ  \\\n",
       "0         กระบี่                   6694                      6545   \n",
       "1  กรุงเทพมหานคร                  38874                     33705   \n",
       "2      กาญจนบุรี                   7122                      6884   \n",
       "3      กาฬสินธุ์                   9361                      9051   \n",
       "4      กำแพงเพชร                   7239                      6990   \n",
       "\n",
       "   จำนวนเงินค่าเล่าเรียนค่าใช้จ่ายเกี่ยวเนื่อง  จำนวนเงินค่าครองชีพ  \\\n",
       "0                                 1.784679e+08            210918000   \n",
       "1                                 1.600046e+09           1108494000   \n",
       "2                                 1.712062e+08            219930000   \n",
       "3                                 2.276785e+08            288254400   \n",
       "4                                 1.503932e+08            219867600   \n",
       "\n",
       "    ผลรวมการกู้  \n",
       "0  3.893859e+08  \n",
       "1  2.708540e+09  \n",
       "2  3.911362e+08  \n",
       "3  5.159329e+08  \n",
       "4  3.702608e+08  "
      ]
     },
     "execution_count": 250,
     "metadata": {},
     "output_type": "execute_result"
    }
   ],
   "source": [
    "# เพิ่มคอลัมน์ ผลรวมการกู้\n",
    "\n",
    "df_loan['ผลรวมการกู้'] = df_loan['จำนวนเงินค่าเล่าเรียนค่าใช้จ่ายเกี่ยวเนื่อง']+ df_loan['จำนวนเงินค่าครองชีพ']\n",
    "df_loan = df_loan[df_loan['ปีการศึกษา'] != 2564]\n",
    "df_loan = df_loan.drop(['ลักษณะการกู้ยืม','ตำบล','อำเภอ','ปีการศึกษา'],axis=1)\n",
    "summed_df_loan = df_loan.groupby('จังหวัด').sum().reset_index()\n",
    "summed_df_loan.head()"
   ]
  },
  {
   "cell_type": "markdown",
   "metadata": {},
   "source": [
    "## ข้อมูลประเภทของผู้กู้ กยศ ของแต่ละพื้นที่ แยกตามสถานะปลอดหนี้และสถานะชำระหนี้ 2564 - 2565 \n"
   ]
  },
  {
   "cell_type": "code",
   "execution_count": 251,
   "metadata": {},
   "outputs": [
    {
     "data": {
      "text/html": [
       "<div>\n",
       "<style scoped>\n",
       "    .dataframe tbody tr th:only-of-type {\n",
       "        vertical-align: middle;\n",
       "    }\n",
       "\n",
       "    .dataframe tbody tr th {\n",
       "        vertical-align: top;\n",
       "    }\n",
       "\n",
       "    .dataframe thead th {\n",
       "        text-align: right;\n",
       "    }\n",
       "</style>\n",
       "<table border=\"1\" class=\"dataframe\">\n",
       "  <thead>\n",
       "    <tr style=\"text-align: right;\">\n",
       "      <th></th>\n",
       "      <th>สถานะผู้กู้</th>\n",
       "      <th>จังหวัด</th>\n",
       "      <th>จำนวนผู้กู้</th>\n",
       "      <th>จำนวนเงินกู้</th>\n",
       "    </tr>\n",
       "  </thead>\n",
       "  <tbody>\n",
       "    <tr>\n",
       "      <th>29240</th>\n",
       "      <td>อยู่ระหว่างชำระหนี้</td>\n",
       "      <td>กระบี่</td>\n",
       "      <td>658</td>\n",
       "      <td>92033565.22</td>\n",
       "    </tr>\n",
       "    <tr>\n",
       "      <th>29241</th>\n",
       "      <td>อยู่ระหว่างชำระหนี้</td>\n",
       "      <td>กระบี่</td>\n",
       "      <td>391</td>\n",
       "      <td>54801093.67</td>\n",
       "    </tr>\n",
       "    <tr>\n",
       "      <th>29242</th>\n",
       "      <td>อยู่ระหว่างชำระหนี้</td>\n",
       "      <td>กระบี่</td>\n",
       "      <td>355</td>\n",
       "      <td>47756918.55</td>\n",
       "    </tr>\n",
       "    <tr>\n",
       "      <th>29243</th>\n",
       "      <td>อยู่ระหว่างชำระหนี้</td>\n",
       "      <td>กระบี่</td>\n",
       "      <td>414</td>\n",
       "      <td>54755402.16</td>\n",
       "    </tr>\n",
       "    <tr>\n",
       "      <th>29244</th>\n",
       "      <td>อยู่ระหว่างชำระหนี้</td>\n",
       "      <td>กระบี่</td>\n",
       "      <td>306</td>\n",
       "      <td>46195512.96</td>\n",
       "    </tr>\n",
       "  </tbody>\n",
       "</table>\n",
       "</div>"
      ],
      "text/plain": [
       "               สถานะผู้กู้ จังหวัด  จำนวนผู้กู้  จำนวนเงินกู้\n",
       "29240  อยู่ระหว่างชำระหนี้  กระบี่          658   92033565.22\n",
       "29241  อยู่ระหว่างชำระหนี้  กระบี่          391   54801093.67\n",
       "29242  อยู่ระหว่างชำระหนี้  กระบี่          355   47756918.55\n",
       "29243  อยู่ระหว่างชำระหนี้  กระบี่          414   54755402.16\n",
       "29244  อยู่ระหว่างชำระหนี้  กระบี่          306   46195512.96"
      ]
     },
     "execution_count": 251,
     "metadata": {},
     "output_type": "execute_result"
    }
   ],
   "source": [
    "df_payer = pd.read_excel(url_payer)\n",
    "df_payer = df_payer[df_payer['ปีงบประมาณ'] != 2564]\n",
    "df_payer = df_payer.drop(['ลักษณะการให้กู้ยืม','ตำบล','อำเภอ','ปีงบประมาณ'],axis=1)\n",
    "df_payer.head()"
   ]
  },
  {
   "cell_type": "markdown",
   "metadata": {},
   "source": [
    "หลังจากตัดข้อมูลปี 2564 ออก และตัดคอลัมน์ ลักษณะการให้กู้ยืม ตำบล อำเภอ และปีงบประมาณแล้ว\\\n",
    "ประกอบไปด้วยจำนวนแถว 29,674 แถว และจำนวนคอลัมน์ 4 คอลัมน์\n",
    "\n",
    "* Data type ของแต่ละคอลัมน์มีดังนี้ : \n",
    "1. สถานะผู้กู้ : object\n",
    "5. จังหวัด : object\n",
    "6. จำนวนผู้กู้ : int64\n",
    "7. จำนวนเงินค่าเล่าเรียนค่าใช้จ่ายเกี่ยวเนื่อง : int64 \n",
    "8. จำนวนเงินค่าครองชีพ : int64 \n",
    "\n",
    "* ไม่มี null value"
   ]
  },
  {
   "cell_type": "code",
   "execution_count": 265,
   "metadata": {},
   "outputs": [
    {
     "data": {
      "text/html": [
       "<div>\n",
       "<style scoped>\n",
       "    .dataframe tbody tr th:only-of-type {\n",
       "        vertical-align: middle;\n",
       "    }\n",
       "\n",
       "    .dataframe tbody tr th {\n",
       "        vertical-align: top;\n",
       "    }\n",
       "\n",
       "    .dataframe thead th {\n",
       "        text-align: right;\n",
       "    }\n",
       "</style>\n",
       "<table border=\"1\" class=\"dataframe\">\n",
       "  <thead>\n",
       "    <tr style=\"text-align: right;\">\n",
       "      <th></th>\n",
       "      <th>จังหวัด</th>\n",
       "      <th>สถานะผู้กู้</th>\n",
       "      <th>จำนวนผู้กู้</th>\n",
       "      <th>จำนวนเงินกู้</th>\n",
       "    </tr>\n",
       "  </thead>\n",
       "  <tbody>\n",
       "    <tr>\n",
       "      <th>0</th>\n",
       "      <td>กระบี่</td>\n",
       "      <td>อยู่ระหว่างชำระหนี้</td>\n",
       "      <td>24429</td>\n",
       "      <td>3.271592e+09</td>\n",
       "    </tr>\n",
       "    <tr>\n",
       "      <th>1</th>\n",
       "      <td>กระบี่</td>\n",
       "      <td>อยู่ระหว่างปลอดหนี้</td>\n",
       "      <td>2908</td>\n",
       "      <td>4.199499e+08</td>\n",
       "    </tr>\n",
       "    <tr>\n",
       "      <th>2</th>\n",
       "      <td>กรุงเทพมหานคร</td>\n",
       "      <td>อยู่ระหว่างชำระหนี้</td>\n",
       "      <td>224711</td>\n",
       "      <td>3.666218e+10</td>\n",
       "    </tr>\n",
       "    <tr>\n",
       "      <th>3</th>\n",
       "      <td>กรุงเทพมหานคร</td>\n",
       "      <td>อยู่ระหว่างปลอดหนี้</td>\n",
       "      <td>21021</td>\n",
       "      <td>3.876196e+09</td>\n",
       "    </tr>\n",
       "    <tr>\n",
       "      <th>4</th>\n",
       "      <td>กาญจนบุรี</td>\n",
       "      <td>อยู่ระหว่างชำระหนี้</td>\n",
       "      <td>40206</td>\n",
       "      <td>5.060806e+09</td>\n",
       "    </tr>\n",
       "    <tr>\n",
       "      <th>5</th>\n",
       "      <td>กาญจนบุรี</td>\n",
       "      <td>อยู่ระหว่างปลอดหนี้</td>\n",
       "      <td>3790</td>\n",
       "      <td>5.731595e+08</td>\n",
       "    </tr>\n",
       "  </tbody>\n",
       "</table>\n",
       "</div>"
      ],
      "text/plain": [
       "         จังหวัด          สถานะผู้กู้  จำนวนผู้กู้  จำนวนเงินกู้\n",
       "0         กระบี่  อยู่ระหว่างชำระหนี้        24429  3.271592e+09\n",
       "1         กระบี่  อยู่ระหว่างปลอดหนี้         2908  4.199499e+08\n",
       "2  กรุงเทพมหานคร  อยู่ระหว่างชำระหนี้       224711  3.666218e+10\n",
       "3  กรุงเทพมหานคร  อยู่ระหว่างปลอดหนี้        21021  3.876196e+09\n",
       "4      กาญจนบุรี  อยู่ระหว่างชำระหนี้        40206  5.060806e+09\n",
       "5      กาญจนบุรี  อยู่ระหว่างปลอดหนี้         3790  5.731595e+08"
      ]
     },
     "execution_count": 265,
     "metadata": {},
     "output_type": "execute_result"
    }
   ],
   "source": [
    "# จัดกลุ่มข้อมูลแยกตามจังหวัดและสถานะผู้กู้\n",
    "\n",
    "grouped_df_payer = df_payer.groupby(['จังหวัด','สถานะผู้กู้']).sum().reset_index()\n",
    "grouped_df_payer.head(6)"
   ]
  },
  {
   "cell_type": "code",
   "execution_count": 253,
   "metadata": {},
   "outputs": [
    {
     "data": {
      "text/html": [
       "<div>\n",
       "<style scoped>\n",
       "    .dataframe tbody tr th:only-of-type {\n",
       "        vertical-align: middle;\n",
       "    }\n",
       "\n",
       "    .dataframe tbody tr th {\n",
       "        vertical-align: top;\n",
       "    }\n",
       "\n",
       "    .dataframe thead th {\n",
       "        text-align: right;\n",
       "    }\n",
       "</style>\n",
       "<table border=\"1\" class=\"dataframe\">\n",
       "  <thead>\n",
       "    <tr style=\"text-align: right;\">\n",
       "      <th></th>\n",
       "      <th>สถานะผู้กู้</th>\n",
       "      <th>จำนวนผู้กู้</th>\n",
       "    </tr>\n",
       "  </thead>\n",
       "  <tbody>\n",
       "    <tr>\n",
       "      <th>0</th>\n",
       "      <td>อยู่ระหว่างชำระหนี้</td>\n",
       "      <td>3546218</td>\n",
       "    </tr>\n",
       "    <tr>\n",
       "      <th>1</th>\n",
       "      <td>อยู่ระหว่างปลอดหนี้</td>\n",
       "      <td>346014</td>\n",
       "    </tr>\n",
       "  </tbody>\n",
       "</table>\n",
       "</div>"
      ],
      "text/plain": [
       "           สถานะผู้กู้  จำนวนผู้กู้\n",
       "0  อยู่ระหว่างชำระหนี้      3546218\n",
       "1  อยู่ระหว่างปลอดหนี้       346014"
      ]
     },
     "execution_count": 253,
     "metadata": {},
     "output_type": "execute_result"
    }
   ],
   "source": [
    "# เตรียมข้อมูลสำหรับสร้างกราฟ\n",
    "\n",
    "summed_df_payer = grouped_df_payer.groupby('สถานะผู้กู้')['จำนวนผู้กู้'].sum().reset_index()\n",
    "summed_df_payer"
   ]
  },
  {
   "cell_type": "markdown",
   "metadata": {},
   "source": [
    "## ข้อมูลสถานะผู้กู้ กยศ แบ่งตามสถานะ"
   ]
  },
  {
   "cell_type": "code",
   "execution_count": 254,
   "metadata": {},
   "outputs": [
    {
     "data": {
      "text/html": [
       "<div>\n",
       "<style scoped>\n",
       "    .dataframe tbody tr th:only-of-type {\n",
       "        vertical-align: middle;\n",
       "    }\n",
       "\n",
       "    .dataframe tbody tr th {\n",
       "        vertical-align: top;\n",
       "    }\n",
       "\n",
       "    .dataframe thead th {\n",
       "        text-align: right;\n",
       "    }\n",
       "</style>\n",
       "<table border=\"1\" class=\"dataframe\">\n",
       "  <thead>\n",
       "    <tr style=\"text-align: right;\">\n",
       "      <th></th>\n",
       "      <th>ลำดับสถานะ</th>\n",
       "      <th>สถานะผู้กู้ยืม</th>\n",
       "      <th>จำนวนผู้กู้ยืม(รายบัญชี)</th>\n",
       "      <th>จำนวนเงินกู้ยืม(บาท)</th>\n",
       "      <th>จำนวนเงินต้นผิดนัดชำระหนี้(บาท)</th>\n",
       "    </tr>\n",
       "  </thead>\n",
       "  <tbody>\n",
       "    <tr>\n",
       "      <th>0</th>\n",
       "      <td>10</td>\n",
       "      <td>1.อยู่ระหว่างศึกษา ปลอดหนี้</td>\n",
       "      <td>1366838</td>\n",
       "      <td>1.432988e+11</td>\n",
       "      <td>0.000000e+00</td>\n",
       "    </tr>\n",
       "    <tr>\n",
       "      <th>1</th>\n",
       "      <td>20</td>\n",
       "      <td>2.อยู่ระหว่างชำระหนี้</td>\n",
       "      <td>3519163</td>\n",
       "      <td>4.518960e+11</td>\n",
       "      <td>9.736006e+10</td>\n",
       "    </tr>\n",
       "    <tr>\n",
       "      <th>2</th>\n",
       "      <td>21</td>\n",
       "      <td>2.1ไม่ผิดนัดชำระหนี้</td>\n",
       "      <td>1277319</td>\n",
       "      <td>1.889971e+11</td>\n",
       "      <td>0.000000e+00</td>\n",
       "    </tr>\n",
       "    <tr>\n",
       "      <th>3</th>\n",
       "      <td>22</td>\n",
       "      <td>2.2ผิดนัดชำระหนี้</td>\n",
       "      <td>2241844</td>\n",
       "      <td>2.628990e+11</td>\n",
       "      <td>9.736006e+10</td>\n",
       "    </tr>\n",
       "    <tr>\n",
       "      <th>4</th>\n",
       "      <td>30</td>\n",
       "      <td>3.ชำระหนี้เสร็จสิ้น</td>\n",
       "      <td>1848558</td>\n",
       "      <td>1.457144e+11</td>\n",
       "      <td>0.000000e+00</td>\n",
       "    </tr>\n",
       "    <tr>\n",
       "      <th>5</th>\n",
       "      <td>40</td>\n",
       "      <td>4.เสียชีวิต ทุพพลภาพ</td>\n",
       "      <td>72270</td>\n",
       "      <td>6.391653e+09</td>\n",
       "      <td>0.000000e+00</td>\n",
       "    </tr>\n",
       "  </tbody>\n",
       "</table>\n",
       "</div>"
      ],
      "text/plain": [
       "   ลำดับสถานะ               สถานะผู้กู้ยืม  จำนวนผู้กู้ยืม(รายบัญชี)  \\\n",
       "0          10  1.อยู่ระหว่างศึกษา ปลอดหนี้                   1366838   \n",
       "1          20       2.อยู่ระหว่างชำระหนี้                    3519163   \n",
       "2          21         2.1ไม่ผิดนัดชำระหนี้                   1277319   \n",
       "3          22            2.2ผิดนัดชำระหนี้                   2241844   \n",
       "4          30          3.ชำระหนี้เสร็จสิ้น                   1848558   \n",
       "5          40         4.เสียชีวิต ทุพพลภาพ                     72270   \n",
       "\n",
       "   จำนวนเงินกู้ยืม(บาท)  จำนวนเงินต้นผิดนัดชำระหนี้(บาท)  \n",
       "0          1.432988e+11                     0.000000e+00  \n",
       "1          4.518960e+11                     9.736006e+10  \n",
       "2          1.889971e+11                     0.000000e+00  \n",
       "3          2.628990e+11                     9.736006e+10  \n",
       "4          1.457144e+11                     0.000000e+00  \n",
       "5          6.391653e+09                     0.000000e+00  "
      ]
     },
     "execution_count": 254,
     "metadata": {},
     "output_type": "execute_result"
    }
   ],
   "source": [
    "df_status = pd.read_excel(url_status)\n",
    "df_status"
   ]
  },
  {
   "cell_type": "markdown",
   "metadata": {},
   "source": [
    "# ภาพรวมของ กยศ ในปัจจุบัน"
   ]
  },
  {
   "cell_type": "code",
   "execution_count": 269,
   "metadata": {},
   "outputs": [
    {
     "data": {
      "text/html": [
       "<div>\n",
       "<style scoped>\n",
       "    .dataframe tbody tr th:only-of-type {\n",
       "        vertical-align: middle;\n",
       "    }\n",
       "\n",
       "    .dataframe tbody tr th {\n",
       "        vertical-align: top;\n",
       "    }\n",
       "\n",
       "    .dataframe thead th {\n",
       "        text-align: right;\n",
       "    }\n",
       "</style>\n",
       "<table border=\"1\" class=\"dataframe\">\n",
       "  <thead>\n",
       "    <tr style=\"text-align: right;\">\n",
       "      <th></th>\n",
       "      <th>จังหวัด</th>\n",
       "      <th>จำนวนผู้กู้ยืมทั้งหมด</th>\n",
       "      <th>จำนวนผู้กู้ยืมค่าครองชีพ</th>\n",
       "      <th>จำนวนเงินค่าเล่าเรียนค่าใช้จ่ายเกี่ยวเนื่อง</th>\n",
       "      <th>จำนวนเงินค่าครองชีพ</th>\n",
       "      <th>ผลรวมการกู้</th>\n",
       "    </tr>\n",
       "  </thead>\n",
       "  <tbody>\n",
       "    <tr>\n",
       "      <th>0</th>\n",
       "      <td>กระบี่</td>\n",
       "      <td>6694</td>\n",
       "      <td>6545</td>\n",
       "      <td>1.784679e+08</td>\n",
       "      <td>210918000</td>\n",
       "      <td>3.893859e+08</td>\n",
       "    </tr>\n",
       "    <tr>\n",
       "      <th>1</th>\n",
       "      <td>กรุงเทพมหานคร</td>\n",
       "      <td>38874</td>\n",
       "      <td>33705</td>\n",
       "      <td>1.600046e+09</td>\n",
       "      <td>1108494000</td>\n",
       "      <td>2.708540e+09</td>\n",
       "    </tr>\n",
       "    <tr>\n",
       "      <th>2</th>\n",
       "      <td>กาญจนบุรี</td>\n",
       "      <td>7122</td>\n",
       "      <td>6884</td>\n",
       "      <td>1.712062e+08</td>\n",
       "      <td>219930000</td>\n",
       "      <td>3.911362e+08</td>\n",
       "    </tr>\n",
       "    <tr>\n",
       "      <th>3</th>\n",
       "      <td>กาฬสินธุ์</td>\n",
       "      <td>9361</td>\n",
       "      <td>9051</td>\n",
       "      <td>2.276785e+08</td>\n",
       "      <td>288254400</td>\n",
       "      <td>5.159329e+08</td>\n",
       "    </tr>\n",
       "    <tr>\n",
       "      <th>4</th>\n",
       "      <td>กำแพงเพชร</td>\n",
       "      <td>7239</td>\n",
       "      <td>6990</td>\n",
       "      <td>1.503932e+08</td>\n",
       "      <td>219867600</td>\n",
       "      <td>3.702608e+08</td>\n",
       "    </tr>\n",
       "    <tr>\n",
       "      <th>...</th>\n",
       "      <td>...</td>\n",
       "      <td>...</td>\n",
       "      <td>...</td>\n",
       "      <td>...</td>\n",
       "      <td>...</td>\n",
       "      <td>...</td>\n",
       "    </tr>\n",
       "    <tr>\n",
       "      <th>72</th>\n",
       "      <td>เพชรบุรี</td>\n",
       "      <td>3782</td>\n",
       "      <td>3625</td>\n",
       "      <td>1.057043e+08</td>\n",
       "      <td>115837200</td>\n",
       "      <td>2.215415e+08</td>\n",
       "    </tr>\n",
       "    <tr>\n",
       "      <th>73</th>\n",
       "      <td>เพชรบูรณ์</td>\n",
       "      <td>10312</td>\n",
       "      <td>10017</td>\n",
       "      <td>2.299356e+08</td>\n",
       "      <td>321106800</td>\n",
       "      <td>5.510424e+08</td>\n",
       "    </tr>\n",
       "    <tr>\n",
       "      <th>74</th>\n",
       "      <td>เลย</td>\n",
       "      <td>4245</td>\n",
       "      <td>4065</td>\n",
       "      <td>1.130181e+08</td>\n",
       "      <td>129832800</td>\n",
       "      <td>2.428509e+08</td>\n",
       "    </tr>\n",
       "    <tr>\n",
       "      <th>75</th>\n",
       "      <td>แพร่</td>\n",
       "      <td>4737</td>\n",
       "      <td>4598</td>\n",
       "      <td>9.632015e+07</td>\n",
       "      <td>146004000</td>\n",
       "      <td>2.423241e+08</td>\n",
       "    </tr>\n",
       "    <tr>\n",
       "      <th>76</th>\n",
       "      <td>แม่ฮ่องสอน</td>\n",
       "      <td>2392</td>\n",
       "      <td>2336</td>\n",
       "      <td>4.158842e+07</td>\n",
       "      <td>73878000</td>\n",
       "      <td>1.154664e+08</td>\n",
       "    </tr>\n",
       "  </tbody>\n",
       "</table>\n",
       "<p>77 rows × 6 columns</p>\n",
       "</div>"
      ],
      "text/plain": [
       "          จังหวัด  จำนวนผู้กู้ยืมทั้งหมด  จำนวนผู้กู้ยืมค่าครองชีพ  \\\n",
       "0          กระบี่                   6694                      6545   \n",
       "1   กรุงเทพมหานคร                  38874                     33705   \n",
       "2       กาญจนบุรี                   7122                      6884   \n",
       "3       กาฬสินธุ์                   9361                      9051   \n",
       "4       กำแพงเพชร                   7239                      6990   \n",
       "..            ...                    ...                       ...   \n",
       "72       เพชรบุรี                   3782                      3625   \n",
       "73      เพชรบูรณ์                  10312                     10017   \n",
       "74            เลย                   4245                      4065   \n",
       "75           แพร่                   4737                      4598   \n",
       "76     แม่ฮ่องสอน                   2392                      2336   \n",
       "\n",
       "    จำนวนเงินค่าเล่าเรียนค่าใช้จ่ายเกี่ยวเนื่อง  จำนวนเงินค่าครองชีพ  \\\n",
       "0                                  1.784679e+08            210918000   \n",
       "1                                  1.600046e+09           1108494000   \n",
       "2                                  1.712062e+08            219930000   \n",
       "3                                  2.276785e+08            288254400   \n",
       "4                                  1.503932e+08            219867600   \n",
       "..                                          ...                  ...   \n",
       "72                                 1.057043e+08            115837200   \n",
       "73                                 2.299356e+08            321106800   \n",
       "74                                 1.130181e+08            129832800   \n",
       "75                                 9.632015e+07            146004000   \n",
       "76                                 4.158842e+07             73878000   \n",
       "\n",
       "     ผลรวมการกู้  \n",
       "0   3.893859e+08  \n",
       "1   2.708540e+09  \n",
       "2   3.911362e+08  \n",
       "3   5.159329e+08  \n",
       "4   3.702608e+08  \n",
       "..           ...  \n",
       "72  2.215415e+08  \n",
       "73  5.510424e+08  \n",
       "74  2.428509e+08  \n",
       "75  2.423241e+08  \n",
       "76  1.154664e+08  \n",
       "\n",
       "[77 rows x 6 columns]"
      ]
     },
     "execution_count": 269,
     "metadata": {},
     "output_type": "execute_result"
    }
   ],
   "source": [
    "summed_df_loan"
   ]
  },
  {
   "cell_type": "code",
   "execution_count": 278,
   "metadata": {},
   "outputs": [
    {
     "data": {
      "text/plain": [
       "0      1667\n",
       "1      1679\n",
       "2      1822\n",
       "3      1902\n",
       "4      2159\n",
       "      ...  \n",
       "72    18295\n",
       "73    20639\n",
       "74    20827\n",
       "75    23932\n",
       "76    38874\n",
       "Name: จำนวนผู้กู้ยืมทั้งหมด, Length: 77, dtype: int64"
      ]
     },
     "execution_count": 278,
     "metadata": {},
     "output_type": "execute_result"
    }
   ],
   "source": [
    "summed_df_loan.iloc[:, 1].min()\n",
    "summed_df_loan.iloc[:, 1].max()\n",
    "summed_df_loan.iloc[:, 1].mean()\n",
    "summed_df_loan.iloc[:, 1].median()\n",
    "summed_df_loan.iloc[:, 1].mode()\n"
   ]
  },
  {
   "cell_type": "code",
   "execution_count": 256,
   "metadata": {},
   "outputs": [
    {
     "data": {
      "text/plain": [
       "Text(0.5, 1.0, 'ฮิสโตแกรมแสดงความถี่ของผู้กู้ยืม กยศ. แยกตามจังหวัด')"
      ]
     },
     "execution_count": 256,
     "metadata": {},
     "output_type": "execute_result"
    },
    {
     "data": {
      "image/png": "[encoded data removed]",
      "text/plain": [
       "<Figure size 640x480 with 1 Axes>"
      ]
     },
     "metadata": {
      "image/png": {
       "height": 444,
       "width": 553
      }
     },
     "output_type": "display_data"
    }
   ],
   "source": [
    "fig1 = sns.histplot(data=summed_df_loan, x=\"จำนวนผู้กู้ยืมทั้งหมด\",kde=True,bins=30,)\n",
    "fig1.set_title('ฮิสโตแกรมแสดงความถี่ของผู้กู้ยืม กยศ. แยกตามจังหวัด')"
   ]
  },
  {
   "cell_type": "markdown",
   "metadata": {},
   "source": [
    "จากกราฟจะแสดงให้เห็นว่าการกระจายตัวข้อมูลในส่วนของจำนวนผู้กู้ยืม กยศ. มีลักษณะเบ้ขวา และมี Outlier"
   ]
  },
  {
   "cell_type": "code",
   "execution_count": 260,
   "metadata": {},
   "outputs": [
    {
     "data": {
      "image/png": "[encoded data removed]",
      "text/plain": [
       "<Figure size 640x480 with 1 Axes>"
      ]
     },
     "metadata": {
      "image/png": {
       "height": 442,
       "width": 552
      }
     },
     "output_type": "display_data"
    }
   ],
   "source": [
    "sns.barplot(data = summed_df_payer,x='สถานะผู้กู้',y='จำนวนผู้กู้')\n",
    "plt.title('Total Amount of Debt by Borrower Status')\n",
    "plt.xlabel('Borrower Status')\n",
    "plt.ylabel('Total Amount Owned')\n",
    "\n",
    "plt.show()"
   ]
  },
  {
   "cell_type": "code",
   "execution_count": 261,
   "metadata": {},
   "outputs": [
    {
     "data": {
      "application/vnd.jupyter.widget-view+json": {
       "model_id": "923136d207a64af1be3b3851a16058ef",
       "version_major": 2,
       "version_minor": 0
      },
      "text/plain": [
       "interactive(children=(Dropdown(description='Province:', options=('กระบี่', 'กรุงเทพมหานคร', 'กาญจนบุรี', 'กาฬส…"
      ]
     },
     "execution_count": 261,
     "metadata": {},
     "output_type": "execute_result"
    }
   ],
   "source": [
    "def update_plot(selected_province):\n",
    "    # Filter the DataFrame for the selected province\n",
    "    filtered_df = grouped_df_payer[grouped_df_payer['จังหวัด'] == selected_province]\n",
    "    \n",
    "    # Prepare the first plot data: Group by 'สถานะผู้กู้' and sum 'จำนวนผู้กู้'\n",
    "    borrowers_df = filtered_df.groupby('สถานะผู้กู้')['จำนวนผู้กู้'].sum().reset_index()\n",
    "    \n",
    "    # Prepare the second plot data: Group by 'สถานะผู้กู้' and sum 'จำนวนเงินกู้'\n",
    "    amount_owned_df = filtered_df.groupby('สถานะผู้กู้')['จำนวนเงินกู้'].sum().reset_index()\n",
    "    \n",
    "    # # Clear previous output (if any)\n",
    "    # clear_output(wait=True)\n",
    "    # display(province_dropdown)  # Display the dropdown again\n",
    "    \n",
    "    # Setup the figure for two subplots\n",
    "    plt.figure(figsize=(14, 6))\n",
    "    \n",
    "    # First plot for number of borrowers\n",
    "    plt.subplot(1, 2, 1) # (rows, columns, panel number)\n",
    "    sns.barplot(x='สถานะผู้กู้', y='จำนวนผู้กู้', data=borrowers_df)\n",
    "    plt.title(f'Number of Borrowers in {selected_province}')\n",
    "    plt.xlabel('Borrower Status')\n",
    "    plt.ylabel('Total Number of Borrowers')\n",
    "    \n",
    "    # Second plot for amount owned\n",
    "    plt.subplot(1, 2, 2)\n",
    "    sns.barplot(x='สถานะผู้กู้', y='จำนวนเงินกู้', data=amount_owned_df)\n",
    "    plt.title(f'Total Amount Owned in {selected_province}')\n",
    "    plt.xlabel('Borrower Status')\n",
    "    plt.ylabel('Total Amount Owned')\n",
    "    \n",
    "    plt.tight_layout()\n",
    "    plt.show()\n",
    "    # Create a dropdown for province selection\n",
    "province_dropdown = widgets.Dropdown(\n",
    "    options=grouped_df_payer['จังหวัด'].unique(),\n",
    "    description='Province:',\n",
    "    disabled=False,\n",
    ")\n",
    "\n",
    "# Display the dropdown and update the plot function upon selection\n",
    "widgets.interactive(update_plot, selected_province=province_dropdown)"
   ]
  },
  {
   "cell_type": "code",
   "execution_count": 262,
   "metadata": {},
   "outputs": [
    {
     "name": "stderr",
     "output_type": "stream",
     "text": [
      "C:\\Users\\Purachai\\AppData\\Local\\Temp\\ipykernel_13920\\3865713.py:3: SettingWithCopyWarning: \n",
      "A value is trying to be set on a copy of a slice from a DataFrame.\n",
      "Try using .loc[row_indexer,col_indexer] = value instead\n",
      "\n",
      "See the caveats in the documentation: https://pandas.pydata.org/pandas-docs/stable/user_guide/indexing.html#returning-a-view-versus-a-copy\n",
      "  df_default_rate['สัดส่วน'] = df_default_rate.iloc[: , 1] / df_default_rate.iloc[: ,1 ].sum()\n"
     ]
    }
   ],
   "source": [
    "df_status = df_status[['สถานะผู้กู้ยืม','จำนวนผู้กู้ยืม(รายบัญชี)']]\n",
    "df_default_rate = df_status.iloc[[2,3], :]\n",
    "df_default_rate['สัดส่วน'] = df_default_rate.iloc[: , 1] / df_default_rate.iloc[: ,1 ].sum()"
   ]
  },
  {
   "cell_type": "code",
   "execution_count": 263,
   "metadata": {},
   "outputs": [
    {
     "data": {
      "image/png": "[encoded data removed]",
      "text/plain": [
       "<Figure size 640x480 with 1 Axes>"
      ]
     },
     "metadata": {
      "image/png": {
       "height": 437,
       "width": 556
      }
     },
     "output_type": "display_data"
    }
   ],
   "source": [
    "fig3 = sns.barplot(data = df_status.iloc[[2,3], :], x = 'สถานะผู้กู้ยืม', y = 'จำนวนผู้กู้ยืม(รายบัญชี)' )"
   ]
  },
  {
   "cell_type": "markdown",
   "metadata": {},
   "source": [
    "![sss](https://www.studentloan.or.th/sites/default/files/images/news/%E0%B8%82%E0%B9%88%E0%B8%B2%E0%B8%A7.jpg)"
   ]
  }
 ],
 "metadata": {
  "kernelspec": {
   "display_name": "Python 3",
   "language": "python",
   "name": "python3"
  },
  "language_info": {
   "codemirror_mode": {
    "name": "ipython",
    "version": 3
   },
   "file_extension": ".py",
   "mimetype": "text/x-python",
   "name": "python",
   "nbconvert_exporter": "python",
   "pygments_lexer": "ipython3",
   "version": "3.12.1"
  }
 },
 "nbformat": 4,
 "nbformat_minor": 2
}
